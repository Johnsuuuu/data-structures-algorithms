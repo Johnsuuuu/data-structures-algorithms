{
 "cells": [
  {
   "cell_type": "markdown",
   "metadata": {},
   "source": [
    "# Algorithm"
   ]
  },
  {
   "cell_type": "markdown",
   "metadata": {},
   "source": [
    "## Sorting"
   ]
  },
  {
   "cell_type": "code",
   "execution_count": 11,
   "metadata": {},
   "outputs": [],
   "source": [
    "lst = [50,30,1,6,40,20,77,100,88,4,16,41]"
   ]
  },
  {
   "cell_type": "markdown",
   "metadata": {},
   "source": [
    "### Selection Sort"
   ]
  },
  {
   "cell_type": "code",
   "execution_count": 21,
   "metadata": {},
   "outputs": [],
   "source": [
    "def selection_sort(lst):\n",
    "    if not lst:\n",
    "        return []\n",
    "    for i in range(len(lst) - 1):\n",
    "        smallest = i\n",
    "        for j in range(i, len(lst)):\n",
    "            if lst[j] < lst[smallest]:\n",
    "                smallest = j\n",
    "        lst[i], lst[smallest] = lst[smallest], lst[i]\n",
    "    return lst\n"
   ]
  },
  {
   "cell_type": "code",
   "execution_count": 22,
   "metadata": {},
   "outputs": [
    {
     "data": {
      "text/plain": [
       "[1, 4, 6, 16, 20, 30, 40, 41, 50, 77, 88, 100]"
      ]
     },
     "execution_count": 22,
     "metadata": {},
     "output_type": "execute_result"
    }
   ],
   "source": [
    "selection_sort(lst)"
   ]
  },
  {
   "cell_type": "markdown",
   "metadata": {},
   "source": [
    "### Bubble Sort"
   ]
  },
  {
   "cell_type": "code",
   "execution_count": 23,
   "metadata": {},
   "outputs": [],
   "source": [
    "def bubble_sort(lst):\n",
    "    if lst == []:\n",
    "        return []\n",
    "    for i in range(len(lst)):\n",
    "        for j in range(1, len(lst) - i):\n",
    "            if lst[j-1] > lst[j]:\n",
    "                lst[j-1], lst[j] = lst[j], lst[j-1]\n",
    "    return lst"
   ]
  },
  {
   "cell_type": "code",
   "execution_count": 24,
   "metadata": {},
   "outputs": [
    {
     "data": {
      "text/plain": [
       "[1, 4, 6, 16, 20, 30, 40, 41, 50, 77, 88, 100]"
      ]
     },
     "execution_count": 24,
     "metadata": {},
     "output_type": "execute_result"
    }
   ],
   "source": [
    "bubble_sort(lst)"
   ]
  },
  {
   "cell_type": "markdown",
   "metadata": {},
   "source": [
    "### Insertion Sort"
   ]
  },
  {
   "cell_type": "code",
   "execution_count": 25,
   "metadata": {},
   "outputs": [],
   "source": [
    "def insertion_sort(lst):\n",
    "    if not lst:\n",
    "        return []\n",
    "    for i in range(1,len(lst)):\n",
    "        j = i\n",
    "        while j > 0 and lst[j] < lst[j-1]:\n",
    "            lst[j],lst[j-1] = lst[j-1],lst[j]\n",
    "            j -= 1\n",
    "            \n",
    "    return lst"
   ]
  },
  {
   "cell_type": "code",
   "execution_count": 26,
   "metadata": {},
   "outputs": [
    {
     "data": {
      "text/plain": [
       "[1, 4, 6, 16, 20, 30, 40, 41, 50, 77, 88, 100]"
      ]
     },
     "execution_count": 26,
     "metadata": {},
     "output_type": "execute_result"
    }
   ],
   "source": [
    "insertion_sort(lst)"
   ]
  },
  {
   "cell_type": "markdown",
   "metadata": {},
   "source": [
    "### Shell Sort"
   ]
  },
  {
   "cell_type": "code",
   "execution_count": 27,
   "metadata": {},
   "outputs": [],
   "source": [
    "import math\n",
    "def shell_sort(lst):\n",
    "    if not lst:\n",
    "        return []\n",
    "    h = math.ceil(len(lst)/3)\n",
    "    while h >= 1:\n",
    "        for i in range(h, len(lst)):\n",
    "            j = i\n",
    "            while j >= h and lst[j] < lst[j-h]:\n",
    "                lst[j], lst[j-h] = lst[j-h], lst[j]\n",
    "                j -= h\n",
    "        h -= 1\n",
    "    \n",
    "    return lst"
   ]
  },
  {
   "cell_type": "code",
   "execution_count": 28,
   "metadata": {},
   "outputs": [
    {
     "data": {
      "text/plain": [
       "[1, 4, 6, 16, 20, 30, 40, 41, 50, 77, 88, 100]"
      ]
     },
     "execution_count": 28,
     "metadata": {},
     "output_type": "execute_result"
    }
   ],
   "source": [
    "shell_sort(lst)"
   ]
  },
  {
   "cell_type": "markdown",
   "metadata": {},
   "source": [
    "### Merge Sort"
   ]
  },
  {
   "cell_type": "code",
   "execution_count": 29,
   "metadata": {},
   "outputs": [],
   "source": [
    "def merge_sort(lst):\n",
    "    if not lst:\n",
    "        return []\n",
    "    if len(lst) == 1:\n",
    "        return lst\n",
    "    mid = len(lst) // 2\n",
    "    left = merge_sort(lst[:mid])\n",
    "    right = merge_sort(lst[mid:])\n",
    "    return merge(left, right)\n",
    "\n",
    "def merge(left, right):\n",
    "    l, r, res = 0, 0, []\n",
    "    while l < len(left) and r < len(right):\n",
    "        if left[l] < right[r]:\n",
    "            res.append(left[l])\n",
    "            l += 1\n",
    "        else:\n",
    "            res.append(right[r])\n",
    "            r += 1\n",
    "    return res + left[l:] + right[r:]"
   ]
  },
  {
   "cell_type": "code",
   "execution_count": 30,
   "metadata": {},
   "outputs": [
    {
     "data": {
      "text/plain": [
       "[1, 4, 6, 16, 20, 30, 40, 41, 50, 77, 88, 100]"
      ]
     },
     "execution_count": 30,
     "metadata": {},
     "output_type": "execute_result"
    }
   ],
   "source": [
    "merge_sort(lst)"
   ]
  },
  {
   "cell_type": "markdown",
   "metadata": {},
   "source": [
    "### Quick Sort"
   ]
  },
  {
   "cell_type": "code",
   "execution_count": 12,
   "metadata": {},
   "outputs": [],
   "source": [
    "import random\n",
    "def quick_sort(lst):\n",
    "    if not lst:\n",
    "        return []\n",
    "    random.shuffle(lst)\n",
    "    pivot = lst[0]\n",
    "    left = quick_sort([x for x in lst[1:] if x <= pivot])\n",
    "    right = quick_sort([x for x in lst[1:] if x > pivot])\n",
    "    return left + [pivot] + right"
   ]
  },
  {
   "cell_type": "code",
   "execution_count": 42,
   "metadata": {},
   "outputs": [
    {
     "data": {
      "text/plain": [
       "[1, 4, 6, 16, 20, 30, 40, 41, 50, 77, 88, 100]"
      ]
     },
     "execution_count": 42,
     "metadata": {},
     "output_type": "execute_result"
    }
   ],
   "source": [
    "quick_sort(lst)"
   ]
  },
  {
   "cell_type": "markdown",
   "metadata": {},
   "source": [
    "### Heap Sort"
   ]
  },
  {
   "cell_type": "code",
   "execution_count": 49,
   "metadata": {},
   "outputs": [],
   "source": [
    "def sift_down(lst,idx,end):\n",
    "    while 2*idx <= end:\n",
    "        child = 2 * idx\n",
    "        if child+1 <= end and lst[child+1] > lst[child]:\n",
    "            child = child + 1\n",
    "        if lst[idx] < lst[child]:\n",
    "            lst[idx], lst[child] = lst[child], lst[idx]\n",
    "            idx = child\n",
    "        else:\n",
    "            break\n",
    "            \n",
    "def heap_sort(lst):\n",
    "    if not lst:\n",
    "        return []\n",
    "    lst = [None] + lst\n",
    "    idx = (len(lst) - 1) // 2\n",
    "    while idx > 0:\n",
    "        sift_down(lst,idx,len(lst)-1)\n",
    "        idx -= 1\n",
    "    end = len(lst) - 1\n",
    "    while end > 1:\n",
    "        lst[1], lst[end] = lst[end], lst[1]\n",
    "        end -= 1\n",
    "        sift_down(lst,1,end)\n",
    "        \n",
    "    return lst[1:]\n"
   ]
  },
  {
   "cell_type": "code",
   "execution_count": 50,
   "metadata": {},
   "outputs": [
    {
     "data": {
      "text/plain": [
       "[1, 4, 6, 16, 20, 30, 40, 41, 50, 77, 88, 100]"
      ]
     },
     "execution_count": 50,
     "metadata": {},
     "output_type": "execute_result"
    }
   ],
   "source": [
    "heap_sort(lst)"
   ]
  },
  {
   "cell_type": "markdown",
   "metadata": {},
   "source": [
    "### Counting Sort"
   ]
  },
  {
   "cell_type": "code",
   "execution_count": 51,
   "metadata": {},
   "outputs": [],
   "source": [
    "def counting_sort(lst):\n",
    "    if not lst:\n",
    "        return []\n",
    "    max_lst = max(lst)\n",
    "    min_lst = min(lst)\n",
    "    count_arr_len = max_lst - min_lst + 1\n",
    "    count_arr = [0] * count_arr_len\n",
    "    for i in lst:\n",
    "        count_arr[i-min_lst] += 1\n",
    "    for i in range(1,count_arr_len):\n",
    "        count_arr[i] = count_arr[i] + count_arr[i-1]\n",
    "        \n",
    "    res = [0] * len(lst)\n",
    "    for i in range(len(lst)-1,-1,-1):\n",
    "        res[count_arr[lst[i]-min_lst]-1] = lst[i]\n",
    "        count_arr[lst[i]-min_lst] -= 1\n",
    "        \n",
    "    return res\n",
    "    "
   ]
  },
  {
   "cell_type": "code",
   "execution_count": 52,
   "metadata": {},
   "outputs": [
    {
     "data": {
      "text/plain": [
       "[1, 4, 6, 16, 20, 30, 40, 41, 50, 77, 88, 100]"
      ]
     },
     "execution_count": 52,
     "metadata": {},
     "output_type": "execute_result"
    }
   ],
   "source": [
    "counting_sort(lst)"
   ]
  },
  {
   "cell_type": "markdown",
   "metadata": {},
   "source": [
    "### Bucket Sort"
   ]
  },
  {
   "cell_type": "code",
   "execution_count": 63,
   "metadata": {},
   "outputs": [],
   "source": [
    "import math\n",
    "def bucket_sort(lst,bucket_size):\n",
    "    if not lst:\n",
    "        return []\n",
    "    \n",
    "    max_lst = max(lst)\n",
    "    min_lst = min(lst)\n",
    "    \n",
    "    bucket_count = math.floor((max_lst-min_lst)/bucket_size)+1\n",
    "    buckets = []\n",
    "    for i in range(bucket_count):\n",
    "        buckets.append([])\n",
    "    \n",
    "    for i in lst:\n",
    "        j = math.floor((i-min_lst)/bucket_size)\n",
    "        buckets[j].append(i)\n",
    "        \n",
    "    res = []\n",
    "    for bucket in buckets:\n",
    "        res_comp = quick_sort(bucket)\n",
    "        res.append(res_comp)\n",
    "    res = [j for i in res for j in i]\n",
    "    \n",
    "        \n",
    "    return res\n",
    " "
   ]
  },
  {
   "cell_type": "code",
   "execution_count": 64,
   "metadata": {},
   "outputs": [
    {
     "data": {
      "text/plain": [
       "[1, 4, 6, 16, 20, 30, 40, 41, 50, 77, 88, 100]"
      ]
     },
     "execution_count": 64,
     "metadata": {},
     "output_type": "execute_result"
    }
   ],
   "source": [
    "bucket_sort(lst,25)"
   ]
  },
  {
   "cell_type": "markdown",
   "metadata": {},
   "source": [
    "## Searching"
   ]
  },
  {
   "cell_type": "markdown",
   "metadata": {},
   "source": [
    "### Linear Search "
   ]
  },
  {
   "cell_type": "code",
   "execution_count": 83,
   "metadata": {},
   "outputs": [],
   "source": [
    "def linear_search(lst,elem):\n",
    "    lst_len = len(lst)\n",
    "    for i in range(lst_len):\n",
    "        if lst[i] == elem:\n",
    "            return i\n",
    "        \n",
    "    return -1\n",
    "        "
   ]
  },
  {
   "cell_type": "code",
   "execution_count": 84,
   "metadata": {},
   "outputs": [
    {
     "data": {
      "text/plain": [
       "2"
      ]
     },
     "execution_count": 84,
     "metadata": {},
     "output_type": "execute_result"
    }
   ],
   "source": [
    "linear_search(lst,1)"
   ]
  },
  {
   "cell_type": "markdown",
   "metadata": {},
   "source": [
    "### Binary Search"
   ]
  },
  {
   "cell_type": "code",
   "execution_count": 85,
   "metadata": {},
   "outputs": [],
   "source": [
    "def binary_search(lst,elem):\n",
    "    lst_sorted = sorted(lst)\n",
    "    lo = 0\n",
    "    hi = len(lst) - 1\n",
    "    while lo <= hi:\n",
    "        mid = (lo + hi) // 2\n",
    "        if elem == lst[mid]:\n",
    "            return mid\n",
    "        elif elem > mid:\n",
    "            lo = mid + 1\n",
    "        else:\n",
    "            hi = mid - 1\n",
    "    \n",
    "    return -1"
   ]
  },
  {
   "cell_type": "code",
   "execution_count": 86,
   "metadata": {},
   "outputs": [
    {
     "data": {
      "text/plain": [
       "5"
      ]
     },
     "execution_count": 86,
     "metadata": {},
     "output_type": "execute_result"
    }
   ],
   "source": [
    "binary_search(lst,20)"
   ]
  },
  {
   "cell_type": "markdown",
   "metadata": {},
   "source": [
    "## Greedy"
   ]
  },
  {
   "cell_type": "markdown",
   "metadata": {},
   "source": [
    "### Change-making Problem"
   ]
  },
  {
   "cell_type": "markdown",
   "metadata": {},
   "source": [
    "Problem: You have to make a change of an amount using the smallest possible number of coins.\n",
    "Amount: $n<br /> \n",
    "Available coins: <br /> \n",
    "  \\\\$5 coin <br /> \n",
    "  \\\\$2 coin <br /> \n",
    "  \\\\$1 coin"
   ]
  },
  {
   "cell_type": "code",
   "execution_count": 32,
   "metadata": {},
   "outputs": [],
   "source": [
    "def change_making(amount):\n",
    "    res = []\n",
    "    coins = [5,2,1]\n",
    "    coins.sort(reverse=True)\n",
    "    sum_coins = 0\n",
    "    i = 0\n",
    "    while sum_coins != amount:\n",
    "        if sum_coins + coins[i] <= amount:\n",
    "            sum_coins += coins[i]\n",
    "            res.append(coins[i])\n",
    "        else:\n",
    "            i += 1\n",
    "            \n",
    "    return res"
   ]
  },
  {
   "cell_type": "code",
   "execution_count": 35,
   "metadata": {},
   "outputs": [
    {
     "name": "stdout",
     "output_type": "stream",
     "text": [
      "solution: [5, 5, 5, 5, 5, 2, 1]\n"
     ]
    }
   ],
   "source": [
    "print('solution:',change_making(28))"
   ]
  },
  {
   "cell_type": "markdown",
   "metadata": {},
   "source": [
    "### Fractional Knapsack Problem"
   ]
  },
  {
   "cell_type": "markdown",
   "metadata": {},
   "source": [
    "Problem: Given weights and values of n items, we need to put these items in a knapsack of capacity W to get the maximum total value in the knapsack. we can break items for maximizing the total value of knapsack."
   ]
  },
  {
   "cell_type": "code",
   "execution_count": 54,
   "metadata": {},
   "outputs": [],
   "source": [
    "def fractional_knapsack(weight,value,capacity):\n",
    "    item_dict = dict()\n",
    "    max_value = 0\n",
    "    for i in range(len(weight)):\n",
    "        fraction = value[i]/weight[i]\n",
    "        item_dict[i] = [fraction,weight[i],value[i]]\n",
    "        \n",
    "    item_dict = {k: v for k, v in sorted(item_dict.items(), key=lambda item: item[1][0], reverse=True)}\n",
    "    for k,v in item_dict.items():\n",
    "        if capacity - v[1] >= 0:\n",
    "            capacity -= v[1]\n",
    "            max_value += v[2]\n",
    "        else:\n",
    "            max_value += v[0]*capacity\n",
    "            capacity = 0\n",
    "            break\n",
    "    \n",
    "    return max_value\n",
    "            "
   ]
  },
  {
   "cell_type": "code",
   "execution_count": 55,
   "metadata": {},
   "outputs": [
    {
     "name": "stdout",
     "output_type": "stream",
     "text": [
      "Maximum value to obtain: 240.0\n"
     ]
    }
   ],
   "source": [
    "weight = [10, 40, 20, 30]\n",
    "value = [60, 40, 100, 120]\n",
    "capacity = 50\n",
    "print('Maximum value to obtain:',fractional_knapsack(weight,value,capacity))"
   ]
  },
  {
   "cell_type": "markdown",
   "metadata": {},
   "source": [
    "### Job Sequencing Problem"
   ]
  },
  {
   "cell_type": "markdown",
   "metadata": {},
   "source": [
    "Problem: Given an array of jobs where every job has a deadline and associated profit if the job is finished before the deadline. It is also given that every job takes the single unit of time, so the minimum possible deadline for any job is 1. How to maximize total profit if only one job can be scheduled at a time?"
   ]
  },
  {
   "cell_type": "code",
   "execution_count": 75,
   "metadata": {},
   "outputs": [],
   "source": [
    "def job_sequencing(jobs,deadline):\n",
    "    job_dict = dict()\n",
    "    for i in jobs:\n",
    "        job_dict[i[0]] = [i[1],i[2]] \n",
    "    job_dict = {k: v for k, v in sorted(job_dict.items(), key=lambda item: item[1][1], reverse=True)}\n",
    "    \n",
    "    job_schedule = [None]*deadline\n",
    "    num = 0\n",
    "    for k,v in job_dict.items():\n",
    "        slot = v[0]-1\n",
    "        while slot >= 0:\n",
    "            if job_schedule[slot] is None:\n",
    "                job_schedule[slot] = k\n",
    "                num += 1\n",
    "                break\n",
    "            slot -= 1\n",
    "            \n",
    "        if num == deadline:\n",
    "            break\n",
    "    \n",
    "    return job_schedule\n",
    "            "
   ]
  },
  {
   "cell_type": "code",
   "execution_count": 76,
   "metadata": {},
   "outputs": [
    {
     "name": "stdout",
     "output_type": "stream",
     "text": [
      "Maximum profit sequence of jobs: ['c', 'a', 'e']\n"
     ]
    }
   ],
   "source": [
    "jobs = [['a', 2, 100], \n",
    "       ['b', 1, 19],\n",
    "       ['c', 2, 27],\n",
    "       ['d', 1, 25],\n",
    "       ['e', 3, 15]]\n",
    "print('Maximum profit sequence of jobs:',job_sequencing(jobs,3))"
   ]
  },
  {
   "cell_type": "markdown",
   "metadata": {},
   "source": [
    "## Divide and Conquer"
   ]
  },
  {
   "cell_type": "markdown",
   "metadata": {},
   "source": [
    "### Closest Pair of Points"
   ]
  },
  {
   "cell_type": "code",
   "execution_count": 36,
   "metadata": {},
   "outputs": [],
   "source": [
    "import math\n",
    "class Point(): \n",
    "    def __init__(self, x, y): \n",
    "        self.x = x \n",
    "        self.y = y \n",
    "\n",
    "def dist(p1, p2): \n",
    "    res = math.sqrt((p1.x - p2.x)**2 + (p1.y - p2.y)**2)\n",
    "    return res\n",
    "\n",
    "def brute_force(P,n):\n",
    "    min_val = float('inf')\n",
    "    for i in range(n):\n",
    "        for j in range(i+1,n):\n",
    "            if dist(P[i],P[j]) < min_val:\n",
    "                min_val = dist(P[i],P[j])\n",
    "    \n",
    "    return min_val\n",
    "\n",
    "def strip_closest(strip,size,d):\n",
    "    min_val = d\n",
    "    for i in range(size-1):\n",
    "        j = i + 1\n",
    "        while j < size and (strip[j].y - strip[i].y) < min_val:\n",
    "            min_val = min(dist(strip[i], strip[j]),min_val)\n",
    "            j += 1\n",
    "    \n",
    "    return min_val\n",
    "\n",
    "def closestUtil(P, Q, n):\n",
    "    if n <= 3:\n",
    "        return brute_force(P,n)\n",
    "    \n",
    "    mid = n // 2\n",
    "    mid_point = P[mid]\n",
    "    \n",
    "    Ql = copy.deepcopy(P[:mid])\n",
    "    Ql.sort(key = lambda point: point.y)  \n",
    "    Qr = copy.deepcopy(P[mid:])\n",
    "    Qr.sort(key = lambda point: point.y)  \n",
    "    dl = closestUtil(P[:mid],Ql,mid)\n",
    "    dr = closestUtil(P[mid:],Qr,n-mid)\n",
    "    d = min(dl, dr)\n",
    "    \n",
    "    strip = []\n",
    "    for i in range(n):\n",
    "        if abs(Q[i].x - mid_point.x) < d:\n",
    "            strip.append(Q[i])\n",
    "    \n",
    "    return min(d,strip_closest(strip,len(strip),d))\n",
    "            \n",
    "def closest(P): \n",
    "    n = len(P)\n",
    "    P.sort(key = lambda point: point.x) \n",
    "    Q = copy.deepcopy(P) \n",
    "    Q.sort(key = lambda point: point.y)  \n",
    "    \n",
    "    return closestUtil(P, Q, n) \n",
    "   "
   ]
  },
  {
   "cell_type": "code",
   "execution_count": 38,
   "metadata": {},
   "outputs": [
    {
     "name": "stdout",
     "output_type": "stream",
     "text": [
      "The distance between the closest pair of points is: 1.4142135623730951\n"
     ]
    }
   ],
   "source": [
    "P = [Point(2, 3), Point(12, 30), \n",
    "     Point(40, 50), Point(5, 1),  \n",
    "     Point(12, 10), Point(3, 4)] \n",
    "print('The distance between the closest pair of points is:',closest(P))"
   ]
  },
  {
   "cell_type": "markdown",
   "metadata": {},
   "source": [
    "### Longest Common Prefix"
   ]
  },
  {
   "cell_type": "markdown",
   "metadata": {},
   "source": [
    "### Maximum and minimum of an array using minimum number of comparisons"
   ]
  },
  {
   "cell_type": "code",
   "execution_count": 16,
   "metadata": {},
   "outputs": [],
   "source": [
    "import copy\n",
    "a = [1,2,3,4,5]\n",
    "b = copy.deepcopy(a) "
   ]
  },
  {
   "cell_type": "code",
   "execution_count": 21,
   "metadata": {},
   "outputs": [],
   "source": [
    "a.sort()"
   ]
  },
  {
   "cell_type": "code",
   "execution_count": 22,
   "metadata": {},
   "outputs": [
    {
     "data": {
      "text/plain": [
       "[1, 2, 3, 4]"
      ]
     },
     "execution_count": 22,
     "metadata": {},
     "output_type": "execute_result"
    }
   ],
   "source": [
    "a"
   ]
  },
  {
   "cell_type": "code",
   "execution_count": null,
   "metadata": {},
   "outputs": [],
   "source": []
  }
 ],
 "metadata": {
  "kernelspec": {
   "display_name": "Python 3",
   "language": "python",
   "name": "python3"
  },
  "language_info": {
   "codemirror_mode": {
    "name": "ipython",
    "version": 3
   },
   "file_extension": ".py",
   "mimetype": "text/x-python",
   "name": "python",
   "nbconvert_exporter": "python",
   "pygments_lexer": "ipython3",
   "version": "3.6.4"
  }
 },
 "nbformat": 4,
 "nbformat_minor": 2
}
