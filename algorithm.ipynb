{
 "cells": [
  {
   "cell_type": "markdown",
   "metadata": {},
   "source": [
    "# Algorithm"
   ]
  },
  {
   "cell_type": "markdown",
   "metadata": {},
   "source": [
    "## sorting"
   ]
  },
  {
   "cell_type": "code",
   "execution_count": 11,
   "metadata": {},
   "outputs": [],
   "source": [
    "lst = [50,30,1,6,40,20,77,100,88,4,16,41]"
   ]
  },
  {
   "cell_type": "markdown",
   "metadata": {},
   "source": [
    "### Selection Sort"
   ]
  },
  {
   "cell_type": "code",
   "execution_count": 21,
   "metadata": {},
   "outputs": [],
   "source": [
    "def selection_sort(lst):\n",
    "    if not lst:\n",
    "        return []\n",
    "    for i in range(len(lst) - 1):\n",
    "        smallest = i\n",
    "        for j in range(i, len(lst)):\n",
    "            if lst[j] < lst[smallest]:\n",
    "                smallest = j\n",
    "        lst[i], lst[smallest] = lst[smallest], lst[i]\n",
    "    return lst\n"
   ]
  },
  {
   "cell_type": "code",
   "execution_count": 22,
   "metadata": {},
   "outputs": [
    {
     "data": {
      "text/plain": [
       "[1, 4, 6, 16, 20, 30, 40, 41, 50, 77, 88, 100]"
      ]
     },
     "execution_count": 22,
     "metadata": {},
     "output_type": "execute_result"
    }
   ],
   "source": [
    "selection_sort(lst)"
   ]
  },
  {
   "cell_type": "markdown",
   "metadata": {},
   "source": [
    "### Bubble Sort"
   ]
  },
  {
   "cell_type": "code",
   "execution_count": 23,
   "metadata": {},
   "outputs": [],
   "source": [
    "def bubble_sort(lst):\n",
    "    if lst == []:\n",
    "        return []\n",
    "    for i in range(len(lst)):\n",
    "        for j in range(1, len(lst) - i):\n",
    "            if lst[j-1] > lst[j]:\n",
    "                lst[j-1], lst[j] = lst[j], lst[j-1]\n",
    "    return lst"
   ]
  },
  {
   "cell_type": "code",
   "execution_count": 24,
   "metadata": {},
   "outputs": [
    {
     "data": {
      "text/plain": [
       "[1, 4, 6, 16, 20, 30, 40, 41, 50, 77, 88, 100]"
      ]
     },
     "execution_count": 24,
     "metadata": {},
     "output_type": "execute_result"
    }
   ],
   "source": [
    "bubble_sort(lst)"
   ]
  },
  {
   "cell_type": "markdown",
   "metadata": {},
   "source": [
    "### Insertion Sort"
   ]
  },
  {
   "cell_type": "code",
   "execution_count": 25,
   "metadata": {},
   "outputs": [],
   "source": [
    "def insertion_sort(lst):\n",
    "    if not lst:\n",
    "        return []\n",
    "    for i in range(1,len(lst)):\n",
    "        j = i\n",
    "        while j > 0 and lst[j] < lst[j-1]:\n",
    "            lst[j],lst[j-1] = lst[j-1],lst[j]\n",
    "            j -= 1\n",
    "            \n",
    "    return lst"
   ]
  },
  {
   "cell_type": "code",
   "execution_count": 26,
   "metadata": {},
   "outputs": [
    {
     "data": {
      "text/plain": [
       "[1, 4, 6, 16, 20, 30, 40, 41, 50, 77, 88, 100]"
      ]
     },
     "execution_count": 26,
     "metadata": {},
     "output_type": "execute_result"
    }
   ],
   "source": [
    "insertion_sort(lst)"
   ]
  },
  {
   "cell_type": "markdown",
   "metadata": {},
   "source": [
    "### Shell Sort"
   ]
  },
  {
   "cell_type": "code",
   "execution_count": 27,
   "metadata": {},
   "outputs": [],
   "source": [
    "import math\n",
    "def shell_sort(lst):\n",
    "    if not lst:\n",
    "        return []\n",
    "    h = math.ceil(len(lst)/3)\n",
    "    while h >= 1:\n",
    "        for i in range(h, len(lst)):\n",
    "            j = i\n",
    "            while j >= h and lst[j] < lst[j-h]:\n",
    "                lst[j], lst[j-h] = lst[j-h], lst[j]\n",
    "                j -= h\n",
    "        h -= 1\n",
    "    \n",
    "    return lst"
   ]
  },
  {
   "cell_type": "code",
   "execution_count": 28,
   "metadata": {},
   "outputs": [
    {
     "data": {
      "text/plain": [
       "[1, 4, 6, 16, 20, 30, 40, 41, 50, 77, 88, 100]"
      ]
     },
     "execution_count": 28,
     "metadata": {},
     "output_type": "execute_result"
    }
   ],
   "source": [
    "shell_sort(lst)"
   ]
  },
  {
   "cell_type": "markdown",
   "metadata": {},
   "source": [
    "### Merge Sort"
   ]
  },
  {
   "cell_type": "code",
   "execution_count": 29,
   "metadata": {},
   "outputs": [],
   "source": [
    "def merge_sort(lst):\n",
    "    if not lst:\n",
    "        return []\n",
    "    if len(lst) == 1:\n",
    "        return lst\n",
    "    mid = len(lst) // 2\n",
    "    left = merge_sort(lst[:mid])\n",
    "    right = merge_sort(lst[mid:])\n",
    "    return merge(left, right)\n",
    "\n",
    "def merge(left, right):\n",
    "    l, r, res = 0, 0, []\n",
    "    while l < len(left) and r < len(right):\n",
    "        if left[l] < right[r]:\n",
    "            res.append(left[l])\n",
    "            l += 1\n",
    "        else:\n",
    "            res.append(right[r])\n",
    "            r += 1\n",
    "    return res + left[l:] + right[r:]"
   ]
  },
  {
   "cell_type": "code",
   "execution_count": 30,
   "metadata": {},
   "outputs": [
    {
     "data": {
      "text/plain": [
       "[1, 4, 6, 16, 20, 30, 40, 41, 50, 77, 88, 100]"
      ]
     },
     "execution_count": 30,
     "metadata": {},
     "output_type": "execute_result"
    }
   ],
   "source": [
    "merge_sort(lst)"
   ]
  },
  {
   "cell_type": "markdown",
   "metadata": {},
   "source": [
    "### Quick Sort"
   ]
  },
  {
   "cell_type": "code",
   "execution_count": 12,
   "metadata": {},
   "outputs": [],
   "source": [
    "import random\n",
    "def quick_sort(lst):\n",
    "    if not lst:\n",
    "        return []\n",
    "    random.shuffle(lst)\n",
    "    pivot = lst[0]\n",
    "    left = quick_sort([x for x in lst[1:] if x <= pivot])\n",
    "    right = quick_sort([x for x in lst[1:] if x > pivot])\n",
    "    return left + [pivot] + right"
   ]
  },
  {
   "cell_type": "code",
   "execution_count": 42,
   "metadata": {},
   "outputs": [
    {
     "data": {
      "text/plain": [
       "[1, 4, 6, 16, 20, 30, 40, 41, 50, 77, 88, 100]"
      ]
     },
     "execution_count": 42,
     "metadata": {},
     "output_type": "execute_result"
    }
   ],
   "source": [
    "quick_sort(lst)"
   ]
  },
  {
   "cell_type": "markdown",
   "metadata": {},
   "source": [
    "### Heap Sort"
   ]
  },
  {
   "cell_type": "code",
   "execution_count": 49,
   "metadata": {},
   "outputs": [],
   "source": [
    "def sift_down(lst,idx,end):\n",
    "    while 2*idx <= end:\n",
    "        child = 2 * idx\n",
    "        if child+1 <= end and lst[child+1] > lst[child]:\n",
    "            child = child + 1\n",
    "        if lst[idx] < lst[child]:\n",
    "            lst[idx], lst[child] = lst[child], lst[idx]\n",
    "            idx = child\n",
    "        else:\n",
    "            break\n",
    "            \n",
    "def heap_sort(lst):\n",
    "    if not lst:\n",
    "        return []\n",
    "    lst = [None] + lst\n",
    "    idx = (len(lst) - 1) // 2\n",
    "    while idx > 0:\n",
    "        sift_down(lst,idx,len(lst)-1)\n",
    "        idx -= 1\n",
    "    end = len(lst) - 1\n",
    "    while end > 1:\n",
    "        lst[1], lst[end] = lst[end], lst[1]\n",
    "        end -= 1\n",
    "        sift_down(lst,1,end)\n",
    "        \n",
    "    return lst[1:]\n"
   ]
  },
  {
   "cell_type": "code",
   "execution_count": 50,
   "metadata": {},
   "outputs": [
    {
     "data": {
      "text/plain": [
       "[1, 4, 6, 16, 20, 30, 40, 41, 50, 77, 88, 100]"
      ]
     },
     "execution_count": 50,
     "metadata": {},
     "output_type": "execute_result"
    }
   ],
   "source": [
    "heap_sort(lst)"
   ]
  },
  {
   "cell_type": "markdown",
   "metadata": {},
   "source": [
    "### Counting Sort"
   ]
  },
  {
   "cell_type": "code",
   "execution_count": 51,
   "metadata": {},
   "outputs": [],
   "source": [
    "def counting_sort(lst):\n",
    "    if not lst:\n",
    "        return []\n",
    "    max_lst = max(lst)\n",
    "    min_lst = min(lst)\n",
    "    count_arr_len = max_lst - min_lst + 1\n",
    "    count_arr = [0] * count_arr_len\n",
    "    for i in lst:\n",
    "        count_arr[i-min_lst] += 1\n",
    "    for i in range(1,count_arr_len):\n",
    "        count_arr[i] = count_arr[i] + count_arr[i-1]\n",
    "        \n",
    "    res = [0] * len(lst)\n",
    "    for i in range(len(lst)-1,-1,-1):\n",
    "        res[count_arr[lst[i]-min_lst]-1] = lst[i]\n",
    "        count_arr[lst[i]-min_lst] -= 1\n",
    "        \n",
    "    return res\n",
    "    "
   ]
  },
  {
   "cell_type": "code",
   "execution_count": 52,
   "metadata": {},
   "outputs": [
    {
     "data": {
      "text/plain": [
       "[1, 4, 6, 16, 20, 30, 40, 41, 50, 77, 88, 100]"
      ]
     },
     "execution_count": 52,
     "metadata": {},
     "output_type": "execute_result"
    }
   ],
   "source": [
    "counting_sort(lst)"
   ]
  },
  {
   "cell_type": "markdown",
   "metadata": {},
   "source": [
    "### Bucket Sort"
   ]
  },
  {
   "cell_type": "code",
   "execution_count": 63,
   "metadata": {},
   "outputs": [],
   "source": [
    "import math\n",
    "def bucket_sort(lst,bucket_size):\n",
    "    if not lst:\n",
    "        return []\n",
    "    \n",
    "    max_lst = max(lst)\n",
    "    min_lst = min(lst)\n",
    "    \n",
    "    bucket_count = math.floor((max_lst-min_lst)/bucket_size)+1\n",
    "    buckets = []\n",
    "    for i in range(bucket_count):\n",
    "        buckets.append([])\n",
    "    \n",
    "    for i in lst:\n",
    "        j = math.floor((i-min_lst)/bucket_size)\n",
    "        buckets[j].append(i)\n",
    "        \n",
    "    res = []\n",
    "    for bucket in buckets:\n",
    "        res_comp = quick_sort(bucket)\n",
    "        res.append(res_comp)\n",
    "    res = [j for i in res for j in i]\n",
    "    \n",
    "        \n",
    "    return res\n",
    " "
   ]
  },
  {
   "cell_type": "code",
   "execution_count": 64,
   "metadata": {},
   "outputs": [
    {
     "data": {
      "text/plain": [
       "[1, 4, 6, 16, 20, 30, 40, 41, 50, 77, 88, 100]"
      ]
     },
     "execution_count": 64,
     "metadata": {},
     "output_type": "execute_result"
    }
   ],
   "source": [
    "bucket_sort(lst,25)"
   ]
  },
  {
   "cell_type": "markdown",
   "metadata": {},
   "source": [
    "## Searching"
   ]
  },
  {
   "cell_type": "markdown",
   "metadata": {},
   "source": [
    "### Linear Search "
   ]
  },
  {
   "cell_type": "code",
   "execution_count": 83,
   "metadata": {},
   "outputs": [],
   "source": [
    "def linear_search(lst,elem):\n",
    "    lst_len = len(lst)\n",
    "    for i in range(lst_len):\n",
    "        if lst[i] == elem:\n",
    "            return i\n",
    "        \n",
    "    return -1\n",
    "        "
   ]
  },
  {
   "cell_type": "code",
   "execution_count": 84,
   "metadata": {},
   "outputs": [
    {
     "data": {
      "text/plain": [
       "2"
      ]
     },
     "execution_count": 84,
     "metadata": {},
     "output_type": "execute_result"
    }
   ],
   "source": [
    "linear_search(lst,1)"
   ]
  },
  {
   "cell_type": "markdown",
   "metadata": {},
   "source": [
    "### Binary Search"
   ]
  },
  {
   "cell_type": "code",
   "execution_count": 85,
   "metadata": {},
   "outputs": [],
   "source": [
    "def binary_search(lst,elem):\n",
    "    lst_sorted = sorted(lst)\n",
    "    lo = 0\n",
    "    hi = len(lst) - 1\n",
    "    while lo <= hi:\n",
    "        mid = (lo + hi) // 2\n",
    "        if elem == lst[mid]:\n",
    "            return mid\n",
    "        elif elem > mid:\n",
    "            lo = mid + 1\n",
    "        else:\n",
    "            hi = mid - 1\n",
    "    \n",
    "    return -1"
   ]
  },
  {
   "cell_type": "code",
   "execution_count": 86,
   "metadata": {},
   "outputs": [
    {
     "data": {
      "text/plain": [
       "5"
      ]
     },
     "execution_count": 86,
     "metadata": {},
     "output_type": "execute_result"
    }
   ],
   "source": [
    "binary_search(lst,20)"
   ]
  },
  {
   "cell_type": "code",
   "execution_count": null,
   "metadata": {},
   "outputs": [],
   "source": []
  },
  {
   "cell_type": "code",
   "execution_count": null,
   "metadata": {},
   "outputs": [],
   "source": []
  }
 ],
 "metadata": {
  "kernelspec": {
   "display_name": "Python 3",
   "language": "python",
   "name": "python3"
  },
  "language_info": {
   "codemirror_mode": {
    "name": "ipython",
    "version": 3
   },
   "file_extension": ".py",
   "mimetype": "text/x-python",
   "name": "python",
   "nbconvert_exporter": "python",
   "pygments_lexer": "ipython3",
   "version": "3.6.4"
  }
 },
 "nbformat": 4,
 "nbformat_minor": 2
}
