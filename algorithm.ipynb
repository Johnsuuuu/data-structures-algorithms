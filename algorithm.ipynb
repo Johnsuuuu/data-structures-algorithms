{
 "cells": [
  {
   "cell_type": "markdown",
   "metadata": {},
   "source": [
    "# Algorithm"
   ]
  },
  {
   "cell_type": "markdown",
   "metadata": {},
   "source": [
    "## Sorting"
   ]
  },
  {
   "cell_type": "code",
   "execution_count": 11,
   "metadata": {},
   "outputs": [],
   "source": [
    "lst = [50,30,1,6,40,20,77,100,88,4,16,41]"
   ]
  },
  {
   "cell_type": "markdown",
   "metadata": {},
   "source": [
    "### Selection Sort"
   ]
  },
  {
   "cell_type": "code",
   "execution_count": 21,
   "metadata": {},
   "outputs": [],
   "source": [
    "def selection_sort(lst):\n",
    "    if not lst:\n",
    "        return []\n",
    "    for i in range(len(lst) - 1):\n",
    "        smallest = i\n",
    "        for j in range(i, len(lst)):\n",
    "            if lst[j] < lst[smallest]:\n",
    "                smallest = j\n",
    "        lst[i], lst[smallest] = lst[smallest], lst[i]\n",
    "    return lst\n"
   ]
  },
  {
   "cell_type": "code",
   "execution_count": 22,
   "metadata": {},
   "outputs": [
    {
     "data": {
      "text/plain": [
       "[1, 4, 6, 16, 20, 30, 40, 41, 50, 77, 88, 100]"
      ]
     },
     "execution_count": 22,
     "metadata": {},
     "output_type": "execute_result"
    }
   ],
   "source": [
    "selection_sort(lst)"
   ]
  },
  {
   "cell_type": "markdown",
   "metadata": {},
   "source": [
    "### Bubble Sort"
   ]
  },
  {
   "cell_type": "code",
   "execution_count": 23,
   "metadata": {},
   "outputs": [],
   "source": [
    "def bubble_sort(lst):\n",
    "    if lst == []:\n",
    "        return []\n",
    "    for i in range(len(lst)):\n",
    "        for j in range(1, len(lst) - i):\n",
    "            if lst[j-1] > lst[j]:\n",
    "                lst[j-1], lst[j] = lst[j], lst[j-1]\n",
    "    return lst"
   ]
  },
  {
   "cell_type": "code",
   "execution_count": 24,
   "metadata": {},
   "outputs": [
    {
     "data": {
      "text/plain": [
       "[1, 4, 6, 16, 20, 30, 40, 41, 50, 77, 88, 100]"
      ]
     },
     "execution_count": 24,
     "metadata": {},
     "output_type": "execute_result"
    }
   ],
   "source": [
    "bubble_sort(lst)"
   ]
  },
  {
   "cell_type": "markdown",
   "metadata": {},
   "source": [
    "### Insertion Sort"
   ]
  },
  {
   "cell_type": "code",
   "execution_count": 25,
   "metadata": {},
   "outputs": [],
   "source": [
    "def insertion_sort(lst):\n",
    "    if not lst:\n",
    "        return []\n",
    "    for i in range(1,len(lst)):\n",
    "        j = i\n",
    "        while j > 0 and lst[j] < lst[j-1]:\n",
    "            lst[j],lst[j-1] = lst[j-1],lst[j]\n",
    "            j -= 1\n",
    "            \n",
    "    return lst"
   ]
  },
  {
   "cell_type": "code",
   "execution_count": 26,
   "metadata": {},
   "outputs": [
    {
     "data": {
      "text/plain": [
       "[1, 4, 6, 16, 20, 30, 40, 41, 50, 77, 88, 100]"
      ]
     },
     "execution_count": 26,
     "metadata": {},
     "output_type": "execute_result"
    }
   ],
   "source": [
    "insertion_sort(lst)"
   ]
  },
  {
   "cell_type": "markdown",
   "metadata": {},
   "source": [
    "### Shell Sort"
   ]
  },
  {
   "cell_type": "code",
   "execution_count": 27,
   "metadata": {},
   "outputs": [],
   "source": [
    "import math\n",
    "def shell_sort(lst):\n",
    "    if not lst:\n",
    "        return []\n",
    "    h = math.ceil(len(lst)/3)\n",
    "    while h >= 1:\n",
    "        for i in range(h, len(lst)):\n",
    "            j = i\n",
    "            while j >= h and lst[j] < lst[j-h]:\n",
    "                lst[j], lst[j-h] = lst[j-h], lst[j]\n",
    "                j -= h\n",
    "        h -= 1\n",
    "    \n",
    "    return lst"
   ]
  },
  {
   "cell_type": "code",
   "execution_count": 28,
   "metadata": {},
   "outputs": [
    {
     "data": {
      "text/plain": [
       "[1, 4, 6, 16, 20, 30, 40, 41, 50, 77, 88, 100]"
      ]
     },
     "execution_count": 28,
     "metadata": {},
     "output_type": "execute_result"
    }
   ],
   "source": [
    "shell_sort(lst)"
   ]
  },
  {
   "cell_type": "markdown",
   "metadata": {},
   "source": [
    "### Merge Sort"
   ]
  },
  {
   "cell_type": "code",
   "execution_count": 29,
   "metadata": {},
   "outputs": [],
   "source": [
    "def merge_sort(lst):\n",
    "    if not lst:\n",
    "        return []\n",
    "    if len(lst) == 1:\n",
    "        return lst\n",
    "    mid = len(lst) // 2\n",
    "    left = merge_sort(lst[:mid])\n",
    "    right = merge_sort(lst[mid:])\n",
    "    return merge(left, right)\n",
    "\n",
    "def merge(left, right):\n",
    "    l, r, res = 0, 0, []\n",
    "    while l < len(left) and r < len(right):\n",
    "        if left[l] < right[r]:\n",
    "            res.append(left[l])\n",
    "            l += 1\n",
    "        else:\n",
    "            res.append(right[r])\n",
    "            r += 1\n",
    "    return res + left[l:] + right[r:]"
   ]
  },
  {
   "cell_type": "code",
   "execution_count": 30,
   "metadata": {},
   "outputs": [
    {
     "data": {
      "text/plain": [
       "[1, 4, 6, 16, 20, 30, 40, 41, 50, 77, 88, 100]"
      ]
     },
     "execution_count": 30,
     "metadata": {},
     "output_type": "execute_result"
    }
   ],
   "source": [
    "merge_sort(lst)"
   ]
  },
  {
   "cell_type": "markdown",
   "metadata": {},
   "source": [
    "### Quick Sort"
   ]
  },
  {
   "cell_type": "code",
   "execution_count": 12,
   "metadata": {},
   "outputs": [],
   "source": [
    "import random\n",
    "def quick_sort(lst):\n",
    "    if not lst:\n",
    "        return []\n",
    "    random.shuffle(lst)\n",
    "    pivot = lst[0]\n",
    "    left = quick_sort([x for x in lst[1:] if x <= pivot])\n",
    "    right = quick_sort([x for x in lst[1:] if x > pivot])\n",
    "    return left + [pivot] + right"
   ]
  },
  {
   "cell_type": "code",
   "execution_count": 42,
   "metadata": {},
   "outputs": [
    {
     "data": {
      "text/plain": [
       "[1, 4, 6, 16, 20, 30, 40, 41, 50, 77, 88, 100]"
      ]
     },
     "execution_count": 42,
     "metadata": {},
     "output_type": "execute_result"
    }
   ],
   "source": [
    "quick_sort(lst)"
   ]
  },
  {
   "cell_type": "markdown",
   "metadata": {},
   "source": [
    "### Heap Sort"
   ]
  },
  {
   "cell_type": "code",
   "execution_count": 49,
   "metadata": {},
   "outputs": [],
   "source": [
    "def sift_down(lst,idx,end):\n",
    "    while 2*idx <= end:\n",
    "        child = 2 * idx\n",
    "        if child+1 <= end and lst[child+1] > lst[child]:\n",
    "            child = child + 1\n",
    "        if lst[idx] < lst[child]:\n",
    "            lst[idx], lst[child] = lst[child], lst[idx]\n",
    "            idx = child\n",
    "        else:\n",
    "            break\n",
    "            \n",
    "def heap_sort(lst):\n",
    "    if not lst:\n",
    "        return []\n",
    "    lst = [None] + lst\n",
    "    idx = (len(lst) - 1) // 2\n",
    "    while idx > 0:\n",
    "        sift_down(lst,idx,len(lst)-1)\n",
    "        idx -= 1\n",
    "    end = len(lst) - 1\n",
    "    while end > 1:\n",
    "        lst[1], lst[end] = lst[end], lst[1]\n",
    "        end -= 1\n",
    "        sift_down(lst,1,end)\n",
    "        \n",
    "    return lst[1:]\n"
   ]
  },
  {
   "cell_type": "code",
   "execution_count": 50,
   "metadata": {},
   "outputs": [
    {
     "data": {
      "text/plain": [
       "[1, 4, 6, 16, 20, 30, 40, 41, 50, 77, 88, 100]"
      ]
     },
     "execution_count": 50,
     "metadata": {},
     "output_type": "execute_result"
    }
   ],
   "source": [
    "heap_sort(lst)"
   ]
  },
  {
   "cell_type": "markdown",
   "metadata": {},
   "source": [
    "### Counting Sort"
   ]
  },
  {
   "cell_type": "code",
   "execution_count": 51,
   "metadata": {},
   "outputs": [],
   "source": [
    "def counting_sort(lst):\n",
    "    if not lst:\n",
    "        return []\n",
    "    max_lst = max(lst)\n",
    "    min_lst = min(lst)\n",
    "    count_arr_len = max_lst - min_lst + 1\n",
    "    count_arr = [0] * count_arr_len\n",
    "    for i in lst:\n",
    "        count_arr[i-min_lst] += 1\n",
    "    for i in range(1,count_arr_len):\n",
    "        count_arr[i] = count_arr[i] + count_arr[i-1]\n",
    "        \n",
    "    res = [0] * len(lst)\n",
    "    for i in range(len(lst)-1,-1,-1):\n",
    "        res[count_arr[lst[i]-min_lst]-1] = lst[i]\n",
    "        count_arr[lst[i]-min_lst] -= 1\n",
    "        \n",
    "    return res\n",
    "    "
   ]
  },
  {
   "cell_type": "code",
   "execution_count": 52,
   "metadata": {},
   "outputs": [
    {
     "data": {
      "text/plain": [
       "[1, 4, 6, 16, 20, 30, 40, 41, 50, 77, 88, 100]"
      ]
     },
     "execution_count": 52,
     "metadata": {},
     "output_type": "execute_result"
    }
   ],
   "source": [
    "counting_sort(lst)"
   ]
  },
  {
   "cell_type": "markdown",
   "metadata": {},
   "source": [
    "### Bucket Sort"
   ]
  },
  {
   "cell_type": "code",
   "execution_count": 63,
   "metadata": {},
   "outputs": [],
   "source": [
    "import math\n",
    "def bucket_sort(lst,bucket_size):\n",
    "    if not lst:\n",
    "        return []\n",
    "    \n",
    "    max_lst = max(lst)\n",
    "    min_lst = min(lst)\n",
    "    \n",
    "    bucket_count = math.floor((max_lst-min_lst)/bucket_size)+1\n",
    "    buckets = []\n",
    "    for i in range(bucket_count):\n",
    "        buckets.append([])\n",
    "    \n",
    "    for i in lst:\n",
    "        j = math.floor((i-min_lst)/bucket_size)\n",
    "        buckets[j].append(i)\n",
    "        \n",
    "    res = []\n",
    "    for bucket in buckets:\n",
    "        res_comp = quick_sort(bucket)\n",
    "        res.append(res_comp)\n",
    "    res = [j for i in res for j in i]\n",
    "    \n",
    "        \n",
    "    return res\n",
    " "
   ]
  },
  {
   "cell_type": "code",
   "execution_count": 64,
   "metadata": {},
   "outputs": [
    {
     "data": {
      "text/plain": [
       "[1, 4, 6, 16, 20, 30, 40, 41, 50, 77, 88, 100]"
      ]
     },
     "execution_count": 64,
     "metadata": {},
     "output_type": "execute_result"
    }
   ],
   "source": [
    "bucket_sort(lst,25)"
   ]
  },
  {
   "cell_type": "markdown",
   "metadata": {},
   "source": [
    "## Searching"
   ]
  },
  {
   "cell_type": "markdown",
   "metadata": {},
   "source": [
    "### Linear Search "
   ]
  },
  {
   "cell_type": "code",
   "execution_count": 83,
   "metadata": {},
   "outputs": [],
   "source": [
    "def linear_search(lst,elem):\n",
    "    lst_len = len(lst)\n",
    "    for i in range(lst_len):\n",
    "        if lst[i] == elem:\n",
    "            return i\n",
    "        \n",
    "    return -1\n",
    "        "
   ]
  },
  {
   "cell_type": "code",
   "execution_count": 84,
   "metadata": {},
   "outputs": [
    {
     "data": {
      "text/plain": [
       "2"
      ]
     },
     "execution_count": 84,
     "metadata": {},
     "output_type": "execute_result"
    }
   ],
   "source": [
    "linear_search(lst,1)"
   ]
  },
  {
   "cell_type": "markdown",
   "metadata": {},
   "source": [
    "### Binary Search"
   ]
  },
  {
   "cell_type": "code",
   "execution_count": 85,
   "metadata": {},
   "outputs": [],
   "source": [
    "def binary_search(lst,elem):\n",
    "    lst_sorted = sorted(lst)\n",
    "    lo = 0\n",
    "    hi = len(lst) - 1\n",
    "    while lo <= hi:\n",
    "        mid = (lo + hi) // 2\n",
    "        if elem == lst[mid]:\n",
    "            return mid\n",
    "        elif elem > mid:\n",
    "            lo = mid + 1\n",
    "        else:\n",
    "            hi = mid - 1\n",
    "    \n",
    "    return -1"
   ]
  },
  {
   "cell_type": "code",
   "execution_count": 86,
   "metadata": {},
   "outputs": [
    {
     "data": {
      "text/plain": [
       "5"
      ]
     },
     "execution_count": 86,
     "metadata": {},
     "output_type": "execute_result"
    }
   ],
   "source": [
    "binary_search(lst,20)"
   ]
  },
  {
   "cell_type": "markdown",
   "metadata": {},
   "source": [
    "## String-Based Algorithms"
   ]
  },
  {
   "cell_type": "markdown",
   "metadata": {},
   "source": [
    "### Pattern Matching"
   ]
  },
  {
   "cell_type": "markdown",
   "metadata": {},
   "source": [
    "**Problem**: Given a text $txt[0..n-1]$ and a pattern $pat[0..m-1]$, write a function that prints all occurrences of $pat$ in $txt$. \n",
    "\n",
    "You may assume that $n > m$."
   ]
  },
  {
   "cell_type": "markdown",
   "metadata": {},
   "source": [
    "#### BF Algorithm"
   ]
  },
  {
   "cell_type": "code",
   "execution_count": 44,
   "metadata": {},
   "outputs": [],
   "source": [
    "def BF(pat,txt):\n",
    "    M = len(pat)\n",
    "    N = len(txt)\n",
    "    idx_l = []\n",
    "    for i in range(N-M+1):\n",
    "        j = 0\n",
    "        while(j < M):\n",
    "            if txt[i+j] != pat[j]:\n",
    "                break\n",
    "            j += 1\n",
    "        if j == M:\n",
    "            idx_l.append(i)\n",
    "    \n",
    "    return idx_l"
   ]
  },
  {
   "cell_type": "code",
   "execution_count": 45,
   "metadata": {},
   "outputs": [
    {
     "name": "stdout",
     "output_type": "stream",
     "text": [
      "Found pattern at index: [10, 15, 22]\n"
     ]
    }
   ],
   "source": [
    "txt = \"ABABDABACDABABCABABCABABABCABAB\"\n",
    "pat = \"ABABCABAB\"\n",
    "print('Found pattern at index:',BF(pat,txt))"
   ]
  },
  {
   "cell_type": "markdown",
   "metadata": {},
   "source": [
    "#### Finite-Automata Algorithm "
   ]
  },
  {
   "cell_type": "code",
   "execution_count": 48,
   "metadata": {},
   "outputs": [],
   "source": [
    "def get_next_state(pat, M, state, c): \n",
    "    if state < M and c == ord(pat[state]): \n",
    "        return state+1\n",
    "    i=0\n",
    "    for ns in range(state,0,-1): \n",
    "        if ord(pat[ns-1]) == c: \n",
    "            while(i<ns-1): \n",
    "                if pat[i] != pat[state-ns+1+i]: \n",
    "                    break\n",
    "                i+=1\n",
    "            if i == ns-1: \n",
    "                return ns  \n",
    "    return 0\n",
    "\n",
    "def build_FA(pat, M):   \n",
    "    FA_table = [[0 for i in range(256)] for j in range(M+1)]   # number of characters is 256\n",
    "    for state in range(M+1): \n",
    "        for c in range(256): \n",
    "            ns = get_next_state(pat,M,state,c) \n",
    "            FA_table[state][c] = ns \n",
    "  \n",
    "    return FA_table \n",
    "\n",
    "def FA(pat,txt):\n",
    "    idx_l = []\n",
    "    M = len(pat) \n",
    "    N = len(txt) \n",
    "    FA_table = build_FA(pat, M)     \n",
    "    state=0\n",
    "    for i in range(N): \n",
    "        state = FA_table[state][ord(txt[i])] \n",
    "        if state == M: \n",
    "            idx_l.append(i-M+1)\n",
    "    \n",
    "    return idx_l"
   ]
  },
  {
   "cell_type": "code",
   "execution_count": 49,
   "metadata": {},
   "outputs": [
    {
     "name": "stdout",
     "output_type": "stream",
     "text": [
      "Found pattern at index: [10, 15, 22]\n"
     ]
    }
   ],
   "source": [
    "txt = \"ABABDABACDABABCABABCABABABCABAB\"\n",
    "pat = \"ABABCABAB\"\n",
    "print('Found pattern at index:',FA(pat,txt))"
   ]
  },
  {
   "cell_type": "markdown",
   "metadata": {},
   "source": [
    "#### KMP Algorithm"
   ]
  },
  {
   "cell_type": "code",
   "execution_count": 39,
   "metadata": {},
   "outputs": [],
   "source": [
    "def KMP(pat,txt):\n",
    "    M = len(pat)\n",
    "    N = len(txt)\n",
    "    j = 0\n",
    "    lps = get_LPS(pat,M)\n",
    "    i = 0\n",
    "    idx_l = []\n",
    "    while i < N:\n",
    "        if pat[j] == txt[i]:\n",
    "            i += 1\n",
    "            j += 1\n",
    "        if j == M:\n",
    "            idx_l.append(i-j)\n",
    "            j = lps[j-1]\n",
    "        elif i < N and pat[j] != txt[i]:\n",
    "            if j != 0:\n",
    "                j = lps[j-1]\n",
    "            else:\n",
    "                i += 1\n",
    "                \n",
    "    return idx_l\n",
    "            \n",
    "def get_LPS(pat,M):\n",
    "    lps = [0] * M\n",
    "    l = 0\n",
    "    i = 1\n",
    "    while i < M:\n",
    "        if pat[i] == pat[l]:\n",
    "            l += 1\n",
    "            lps[i] = l\n",
    "            i += 1\n",
    "        else:\n",
    "            if l != 0:\n",
    "                l = lps[l-1]\n",
    "            else:\n",
    "                lps[i] = 0\n",
    "                i += 1        \n",
    "    return lps\n",
    "    "
   ]
  },
  {
   "cell_type": "code",
   "execution_count": 41,
   "metadata": {},
   "outputs": [
    {
     "name": "stdout",
     "output_type": "stream",
     "text": [
      "Found pattern at index: [10, 15, 22]\n"
     ]
    }
   ],
   "source": [
    "txt = \"ABABDABACDABABCABABCABABABCABAB\"\n",
    "pat = \"ABABCABAB\"\n",
    "print('Found pattern at index:',KMP(pat,txt))"
   ]
  },
  {
   "cell_type": "markdown",
   "metadata": {},
   "source": [
    "### Wildcard Pattern Matching"
   ]
  },
  {
   "cell_type": "markdown",
   "metadata": {},
   "source": [
    "**Problem**: Given a text and a wildcard pattern, check if the wildcard pattern is matched with text. \n",
    "\n",
    "The wildcard pattern can include the characters $?$ and $*$\n",
    "\n",
    "$?$ – matches with any single character \n",
    "\n",
    "$*$ – matches with any sequence of characters (including the empty sequence)"
   ]
  },
  {
   "cell_type": "code",
   "execution_count": 3,
   "metadata": {},
   "outputs": [],
   "source": [
    "def wildcard_matching(txt,pat):\n",
    "    N = len(txt)\n",
    "    M = len(pat)\n",
    "    \n",
    "    if (M == 0):\n",
    "        return (N == 0)\n",
    " \n",
    "    T = [[False for i in range(M+1)] for j in range(N+1)]\n",
    " \n",
    "    T[0][0] = True\n",
    "    \n",
    "    for j in range(1,M+1):\n",
    "        if pat[j-1] == '*':\n",
    "            T[0][j] = T[0][j-1]\n",
    "            \n",
    "    for i in range(1,N+1):\n",
    "        for j in range(1,M+1):\n",
    "            if (pat[j-1] == '*'):\n",
    "                T[i][j] = T[i][j-1] or T[i-1][j]\n",
    "            elif (pat[j-1] == '?' or txt[i-1] == pat[j-1]):\n",
    "                T[i][j] = T[i-1][j-1]\n",
    "            else:\n",
    "                T[i][j] = False\n",
    " \n",
    "    return T[N][M]\n"
   ]
  },
  {
   "cell_type": "code",
   "execution_count": 11,
   "metadata": {},
   "outputs": [
    {
     "name": "stdout",
     "output_type": "stream",
     "text": [
      "baaabab matches with b*b : True\n",
      "baaabab matches with *aa* : True\n",
      "baaabab matches with b?b : False\n",
      "baaabab matches with baa?b* : True\n"
     ]
    }
   ],
   "source": [
    "txt = 'baaabab'\n",
    "pat1 = 'b*b'\n",
    "pat2 = '*aa*'\n",
    "pat3 = 'b?b'\n",
    "pat4 = 'baa?b*'\n",
    "print(txt,'matches with',pat1,':',wildcard_matching(txt,pat1))\n",
    "print(txt,'matches with',pat2,':',wildcard_matching(txt,pat2))\n",
    "print(txt,'matches with',pat3,':',wildcard_matching(txt,pat3))\n",
    "print(txt,'matches with',pat4,':',wildcard_matching(txt,pat4))"
   ]
  },
  {
   "cell_type": "markdown",
   "metadata": {},
   "source": [
    "### Longest Palindromic Substring"
   ]
  },
  {
   "cell_type": "markdown",
   "metadata": {},
   "source": [
    "**Problem**: Given a string, find the longest substring which is palindrome."
   ]
  },
  {
   "cell_type": "markdown",
   "metadata": {},
   "source": [
    "#### Manacher Algorithm"
   ]
  },
  {
   "cell_type": "code",
   "execution_count": 3,
   "metadata": {},
   "outputs": [],
   "source": [
    "def Manacher(s):\n",
    "    s_ext = '#' + '#'.join(list(s)) + '#'\n",
    "    s_len = len(s_ext)\n",
    "    lps = [0] * s_len\n",
    "    C = R = 0\n",
    "    for idx in range(1, s_len-1):\n",
    "        i_mirror = 2 * C - idx\n",
    "        if idx >= R:\n",
    "            while (idx+1+lps[idx] < s_len and idx-1-lps[idx] >= 0 and s_ext[idx+1+lps[idx]] == s_ext[idx-1-lps[idx]]):\n",
    "                lps[idx] += 1\n",
    "        else:\n",
    "            if lps[i_mirror] < R - idx:\n",
    "                lps[idx] = lps[i_mirror]\n",
    "            elif lps[i_mirror] == R - idx: \n",
    "                lps[idx] = lps[i_mirror]\n",
    "                while (idx+1+lps[idx] < s_len and idx-1-lps[idx] >= 0 and s_ext[idx+1+lps[idx]] == s_ext[idx-1-lps[idx]]):\n",
    "                    lps[idx] += 1\n",
    "            else:\n",
    "                lps[idx] = R - idx\n",
    "                \n",
    "        if idx + lps[idx] > R:\n",
    "            C = idx\n",
    "            R = idx + lps[idx]\n",
    "\n",
    "    idx = lps.index(max(lps))\n",
    "    start = (idx - lps[idx]) // 2\n",
    "\n",
    "    return s[start: start+lps[idx]]\n"
   ]
  },
  {
   "cell_type": "code",
   "execution_count": 16,
   "metadata": {},
   "outputs": [
    {
     "name": "stdout",
     "output_type": "stream",
     "text": [
      "Longest palindromic substring of \"abbabab\": babab\n"
     ]
    }
   ],
   "source": [
    "print('Longest palindromic substring of \"abbabab\":',Manacher('abbabab'))"
   ]
  },
  {
   "cell_type": "markdown",
   "metadata": {},
   "source": [
    "### Edit Distance"
   ]
  },
  {
   "cell_type": "markdown",
   "metadata": {},
   "source": [
    "Given two strings $s1$ and $s2$ and below operations that can be performed on $s2$.\n",
    "\n",
    "Find the minimum number of edits (operations) required to convert $s1$ into $s2$.\n",
    "* Insert\n",
    "* Remove\n",
    "* Replace\n",
    "\n",
    "All of the above operations are of equal cost."
   ]
  },
  {
   "cell_type": "code",
   "execution_count": 25,
   "metadata": {},
   "outputs": [],
   "source": [
    "def edit_distance(s1,s2):\n",
    "    M = len(s1)\n",
    "    N = len(s2)\n",
    "    T = [[0 for i in range(M+1)] for j in range(N+1)]\n",
    "    for i in range(M+1):\n",
    "        T[0][i] = i\n",
    "    for i in range(N+1):\n",
    "        T[i][0] = i\n",
    "    \n",
    "    for i in range(1,N+1):\n",
    "        for j in range(1,M+1):\n",
    "            if s1[j-1] == s2[i-1]:\n",
    "                T[i][j] = min(T[i][j-1]+1,T[i-1][j]+1,T[i-1][j-1])\n",
    "            else:\n",
    "                T[i][j] = min(T[i][j-1]+1,T[i-1][j]+1,T[i-1][j-1]+1)\n",
    "    \n",
    "    return T[N][M]\n",
    "    "
   ]
  },
  {
   "cell_type": "code",
   "execution_count": 26,
   "metadata": {},
   "outputs": [
    {
     "name": "stdout",
     "output_type": "stream",
     "text": [
      "Edit distance: 3\n"
     ]
    }
   ],
   "source": [
    "s1 = 'Sunday'\n",
    "s2 = 'Saturday'\n",
    "print('Edit distance:',edit_distance(s1,s2))"
   ]
  },
  {
   "cell_type": "markdown",
   "metadata": {},
   "source": [
    "## Greedy"
   ]
  },
  {
   "cell_type": "markdown",
   "metadata": {},
   "source": [
    "### Change-making Problem"
   ]
  },
  {
   "cell_type": "markdown",
   "metadata": {},
   "source": [
    "**Problem**: You have to make a change of an amount using the smallest possible number of coins.\n",
    "\n",
    "Amount: `$` $n$\n",
    "\n",
    "Available coins:\n",
    "* `$` $5$ coin \n",
    "* `$` $2$ coin \n",
    "* `$` $1$ coin"
   ]
  },
  {
   "cell_type": "code",
   "execution_count": 32,
   "metadata": {},
   "outputs": [],
   "source": [
    "def change_making(amount):\n",
    "    res = []\n",
    "    coins = [5,2,1]\n",
    "    coins.sort(reverse=True)\n",
    "    sum_coins = 0\n",
    "    i = 0\n",
    "    while sum_coins != amount:\n",
    "        if sum_coins + coins[i] <= amount:\n",
    "            sum_coins += coins[i]\n",
    "            res.append(coins[i])\n",
    "        else:\n",
    "            i += 1\n",
    "            \n",
    "    return res"
   ]
  },
  {
   "cell_type": "code",
   "execution_count": 35,
   "metadata": {},
   "outputs": [
    {
     "name": "stdout",
     "output_type": "stream",
     "text": [
      "solution: [5, 5, 5, 5, 5, 2, 1]\n"
     ]
    }
   ],
   "source": [
    "print('solution:',change_making(28))"
   ]
  },
  {
   "cell_type": "markdown",
   "metadata": {},
   "source": [
    "### Fractional Knapsack Problem"
   ]
  },
  {
   "cell_type": "markdown",
   "metadata": {},
   "source": [
    "**Problem**: Given weights and values of $n$ items, we need to put these items in a knapsack of capacity $W$ to get the maximum total value in the knapsack.\n",
    "\n",
    "we can break items for maximizing the total value of knapsack."
   ]
  },
  {
   "cell_type": "code",
   "execution_count": 54,
   "metadata": {},
   "outputs": [],
   "source": [
    "def fractional_knapsack(weight,value,capacity):\n",
    "    item_dict = dict()\n",
    "    max_value = 0\n",
    "    for i in range(len(weight)):\n",
    "        fraction = value[i]/weight[i]\n",
    "        item_dict[i] = [fraction,weight[i],value[i]]\n",
    "        \n",
    "    item_dict = {k: v for k, v in sorted(item_dict.items(), key=lambda item: item[1][0], reverse=True)}\n",
    "    for k,v in item_dict.items():\n",
    "        if capacity - v[1] >= 0:\n",
    "            capacity -= v[1]\n",
    "            max_value += v[2]\n",
    "        else:\n",
    "            max_value += v[0]*capacity\n",
    "            capacity = 0\n",
    "            break\n",
    "    \n",
    "    return max_value\n",
    "            "
   ]
  },
  {
   "cell_type": "code",
   "execution_count": 55,
   "metadata": {},
   "outputs": [
    {
     "name": "stdout",
     "output_type": "stream",
     "text": [
      "Maximum value to obtain: 240.0\n"
     ]
    }
   ],
   "source": [
    "weight = [10, 40, 20, 30]\n",
    "value = [60, 40, 100, 120]\n",
    "capacity = 50\n",
    "print('Maximum value to obtain:',fractional_knapsack(weight,value,capacity))"
   ]
  },
  {
   "cell_type": "markdown",
   "metadata": {},
   "source": [
    "### Job Sequencing Problem"
   ]
  },
  {
   "cell_type": "markdown",
   "metadata": {},
   "source": [
    "**Problem**: Given an array of jobs where every job has a deadline and associated profit if the job is finished before the deadline.\n",
    "\n",
    "It is also given that every job takes the single unit of time, so the minimum possible deadline for any job is $1$.\n",
    "\n",
    "How to maximize total profit if only one job can be scheduled at a time?"
   ]
  },
  {
   "cell_type": "code",
   "execution_count": 75,
   "metadata": {},
   "outputs": [],
   "source": [
    "def job_sequencing(jobs,deadline):\n",
    "    job_dict = dict()\n",
    "    for i in jobs:\n",
    "        job_dict[i[0]] = [i[1],i[2]] \n",
    "    job_dict = {k: v for k, v in sorted(job_dict.items(), key=lambda item: item[1][1], reverse=True)}\n",
    "    \n",
    "    job_schedule = [None]*deadline\n",
    "    num = 0\n",
    "    for k,v in job_dict.items():\n",
    "        slot = v[0]-1\n",
    "        while slot >= 0:\n",
    "            if job_schedule[slot] is None:\n",
    "                job_schedule[slot] = k\n",
    "                num += 1\n",
    "                break\n",
    "            slot -= 1\n",
    "            \n",
    "        if num == deadline:\n",
    "            break\n",
    "    \n",
    "    return job_schedule\n",
    "            "
   ]
  },
  {
   "cell_type": "code",
   "execution_count": 76,
   "metadata": {},
   "outputs": [
    {
     "name": "stdout",
     "output_type": "stream",
     "text": [
      "Maximum profit sequence of jobs: ['c', 'a', 'e']\n"
     ]
    }
   ],
   "source": [
    "jobs = [['a', 2, 100], \n",
    "       ['b', 1, 19],\n",
    "       ['c', 2, 27],\n",
    "       ['d', 1, 25],\n",
    "       ['e', 3, 15]]\n",
    "print('Maximum profit sequence of jobs:',job_sequencing(jobs,3))"
   ]
  },
  {
   "cell_type": "markdown",
   "metadata": {},
   "source": [
    "## Divide and Conquer"
   ]
  },
  {
   "cell_type": "markdown",
   "metadata": {},
   "source": [
    "### Closest Pair of Points"
   ]
  },
  {
   "cell_type": "markdown",
   "metadata": {},
   "source": [
    "**Problem**: We are given an array of $n$ points in the plane, and the problem is to find out the distance between the closest pair of points in the array. "
   ]
  },
  {
   "cell_type": "code",
   "execution_count": 5,
   "metadata": {},
   "outputs": [],
   "source": [
    "import math\n",
    "import copy\n",
    "class Point(): \n",
    "    def __init__(self, x, y): \n",
    "        self.x = x \n",
    "        self.y = y \n",
    "\n",
    "def dist(p1, p2): \n",
    "    res = math.sqrt((p1.x - p2.x)**2 + (p1.y - p2.y)**2)\n",
    "    return res\n",
    "\n",
    "def brute_force(P,n):\n",
    "    min_val = float('inf')\n",
    "    for i in range(n):\n",
    "        for j in range(i+1,n):\n",
    "            if dist(P[i],P[j]) < min_val:\n",
    "                min_val = dist(P[i],P[j])\n",
    "    \n",
    "    return min_val\n",
    "\n",
    "def strip_closest(strip,size,d):\n",
    "    min_val = d\n",
    "    for i in range(size-1):\n",
    "        j = i + 1\n",
    "        while j < size and (strip[j].y - strip[i].y) < min_val:\n",
    "            min_val = min(dist(strip[i], strip[j]),min_val)\n",
    "            j += 1\n",
    "    \n",
    "    return min_val\n",
    "\n",
    "def closestUtil(P, Q, n):\n",
    "    if n <= 3:\n",
    "        return brute_force(P,n)\n",
    "    \n",
    "    mid = n // 2\n",
    "    mid_point = P[mid]\n",
    "    \n",
    "    Ql = copy.deepcopy(P[:mid])\n",
    "    Ql.sort(key = lambda point: point.y)  \n",
    "    Qr = copy.deepcopy(P[mid:])\n",
    "    Qr.sort(key = lambda point: point.y)  \n",
    "    dl = closestUtil(P[:mid],Ql,mid)\n",
    "    dr = closestUtil(P[mid:],Qr,n-mid)\n",
    "    d = min(dl, dr)\n",
    "    \n",
    "    strip = []\n",
    "    for i in range(n):\n",
    "        if abs(Q[i].x - mid_point.x) < d:\n",
    "            strip.append(Q[i])\n",
    "    \n",
    "    return min(d,strip_closest(strip,len(strip),d))\n",
    "            \n",
    "def closest(P): \n",
    "    n = len(P)\n",
    "    P.sort(key = lambda point: point.x) \n",
    "    Q = copy.deepcopy(P) \n",
    "    Q.sort(key = lambda point: point.y)  \n",
    "    \n",
    "    return closestUtil(P, Q, n) \n",
    "   "
   ]
  },
  {
   "cell_type": "code",
   "execution_count": 6,
   "metadata": {},
   "outputs": [
    {
     "name": "stdout",
     "output_type": "stream",
     "text": [
      "The distance between the closest pair of points is: 1.4142135623730951\n"
     ]
    }
   ],
   "source": [
    "P = [Point(2, 3), Point(12, 30), \n",
    "     Point(40, 50), Point(5, 1),  \n",
    "     Point(12, 10), Point(3, 4)] \n",
    "print('The distance between the closest pair of points is:',closest(P))"
   ]
  },
  {
   "cell_type": "code",
   "execution_count": 264,
   "metadata": {},
   "outputs": [
    {
     "data": {
      "image/png": "[encoded data removed]",
      "text/plain": [
       "<Figure size 432x288 with 1 Axes>"
      ]
     },
     "metadata": {},
     "output_type": "display_data"
    }
   ],
   "source": [
    "import matplotlib.pyplot as plt\n",
    "plt.plot([2,3],[3,4],linewidth = 2,color='navy')\n",
    "plt.scatter(x=[2,12,40,5,12,3],y=[3,30,50,1,10,4],s=10,color='red')\n",
    "plt.xlabel('$x$',fontsize = 14)\n",
    "plt.ylabel('$y$',rotation = True,fontsize = 14)\n",
    "plt.grid()"
   ]
  },
  {
   "cell_type": "markdown",
   "metadata": {},
   "source": [
    "### Longest Common Prefix"
   ]
  },
  {
   "cell_type": "markdown",
   "metadata": {},
   "source": [
    "**Problem**: Given a set of strings, find the longest common prefix."
   ]
  },
  {
   "cell_type": "code",
   "execution_count": 7,
   "metadata": {},
   "outputs": [],
   "source": [
    "def LCP(lst,low,high):\n",
    "    if low == high:\n",
    "        return lst[low]\n",
    "    \n",
    "    if high > low:\n",
    "        mid = (low + high) // 2\n",
    "        \n",
    "    str1 = LCP(lst, low, mid)  \n",
    "    str2 = LCP(lst, mid + 1, high)  \n",
    "    \n",
    "    return LCP_Util(str1, str2) \n",
    "\n",
    "def LCP_Util(str1,str2):  \n",
    "  \n",
    "    res = \"\"  \n",
    "    n1, n2 = len(str1), len(str2) \n",
    "    i, j = 0, 0\n",
    "  \n",
    "    while i <= n1 - 1 and j <= n2 - 1:  \n",
    "      \n",
    "        if str1[i] != str2[j]:  \n",
    "            break\n",
    "        res += str1[i] \n",
    "        i, j = i + 1, j + 1\n",
    "      \n",
    "    return res \n",
    "        "
   ]
  },
  {
   "cell_type": "code",
   "execution_count": 16,
   "metadata": {},
   "outputs": [
    {
     "name": "stdout",
     "output_type": "stream",
     "text": [
      "Longest common prefix: flo\n"
     ]
    }
   ],
   "source": [
    "lst = [\"flower\", \"flour\",\"flow\", \"floor\"]  \n",
    "n = len(lst) \n",
    "print(\"Longest common prefix:\",LCP(lst,0,n-1))"
   ]
  },
  {
   "cell_type": "markdown",
   "metadata": {},
   "source": [
    "### Maximum and minimum of an array using minimum number of comparisons"
   ]
  },
  {
   "cell_type": "markdown",
   "metadata": {},
   "source": [
    "**Problem**: Find the maximum and minimum of an array using minimum number of comparisons."
   ]
  },
  {
   "cell_type": "code",
   "execution_count": 65,
   "metadata": {},
   "outputs": [],
   "source": [
    "def get_max_min(lst,low,high):\n",
    "    if len(lst) == 0:\n",
    "        return None\n",
    "    \n",
    "    if low == high:\n",
    "        lst_max = lst[low]\n",
    "        lst_min = lst[low]\n",
    "        return lst_max,lst_min\n",
    "         \n",
    "    elif high == low + 1:\n",
    "        if lst[low] > lst[high]:\n",
    "            lst_max = lst[low]\n",
    "            lst_min = lst[high]\n",
    "        else:\n",
    "            lst_max = lst[high]\n",
    "            lst_min = lst[low]\n",
    "        return lst_max,lst_min\n",
    "    else:\n",
    "        mid = (low + high) // 2\n",
    "        lst_max1, lst_min1 = get_max_min(lst,low,mid)\n",
    "        lst_max2, lst_min2 = get_max_min(lst,mid+1,high)\n",
    " \n",
    "    return max(lst_max1,lst_max2), min(lst_min1,lst_min2)"
   ]
  },
  {
   "cell_type": "code",
   "execution_count": 66,
   "metadata": {},
   "outputs": [
    {
     "name": "stdout",
     "output_type": "stream",
     "text": [
      "Maximum: 3124214\n",
      "Minimum: 1\n"
     ]
    }
   ],
   "source": [
    "lst = [1001, 15, 455, 1, 360, 3124214]\n",
    "high = len(lst) - 1\n",
    "low = 0\n",
    "lst_max,lst_min = get_max_min(lst,low,high)\n",
    "print('Maximum:',lst_max)\n",
    "print('Minimum:',lst_min)"
   ]
  },
  {
   "cell_type": "markdown",
   "metadata": {},
   "source": [
    "### Convex-Hull Problem"
   ]
  },
  {
   "cell_type": "markdown",
   "metadata": {},
   "source": [
    "**Problem**: A convex hull is the smallest convex polygon containing all the given points.\n",
    "\n",
    "Input is an array of points specified by their $x$ and $y$ coordinates. The output is the convex hull of this set of points."
   ]
  },
  {
   "cell_type": "code",
   "execution_count": 251,
   "metadata": {},
   "outputs": [],
   "source": [
    "class Point(): \n",
    "    def __init__(self,x,y): \n",
    "        self.x = x \n",
    "        self.y = y \n",
    "        \n",
    "def line_dist(p_min,p_max,p):\n",
    "    S = abs((p_min.x*p_max.y + p_max.x*p.y + p.x*p_min.y - p_min.x*p.y - p_max.x*p_min.y - p.x*p_max.y) / 2)\n",
    "    dist_max_min = math.sqrt((p_min.x-p_max.x)**2 + (p_min.y-p_max.y)**2)\n",
    "    dist = (S*2)/dist_max_min\n",
    "    return dist\n",
    "\n",
    "def get_side(p_min,p_max,p):        \n",
    "    k = (p_max.y - p_min.y) / (p_max.x - p_min.x)\n",
    "    b = p_max.y - (k * p_max.x)\n",
    "    temp = k * p.x + b \n",
    "    if p.y > temp:\n",
    "        return 1\n",
    "    elif p.y == temp:\n",
    "        return 0\n",
    "    else:\n",
    "        return -1\n",
    "\n",
    "def quick_hull(lst):\n",
    "    n = len(lst)\n",
    "    if n < 3:\n",
    "        print('Convex hull not possible')\n",
    "        return\n",
    "\n",
    "    lst.sort(key = lambda point: point.x)\n",
    "    lst_l = [p for p in lst if get_side(lst[0],lst[-1],p) == 1]\n",
    "    lst_r = [p for p in lst if get_side(lst[0],lst[-1],p) == -1]\n",
    "    \n",
    "    l = _quick_hull(lst_l,lst[0],lst[-1],1)\n",
    "    r = _quick_hull(lst_r,lst[0],lst[-1],-1)\n",
    "    \n",
    "    return [lst[0]]+l+r+[lst[-1]]\n",
    "    \n",
    "def _quick_hull(lst_p,lst_min,lst_max,side):\n",
    "    max_dist = 0\n",
    "    idx = -1\n",
    "    for i in range(len(lst_p)):\n",
    "        l_dist = line_dist(lst_min,lst_max,lst_p[i])\n",
    "        if l_dist > max_dist:\n",
    "            max_dist = l_dist\n",
    "            idx = i\n",
    "    if idx == -1:\n",
    "        return\n",
    "    if side == 1:\n",
    "        lst_l = [p for p in lst_p if get_side(lst_min,lst_p[idx],p) == 1]\n",
    "        lst_r = [p for p in lst_p if get_side(lst_p[idx],lst_max,p) == 1]\n",
    "        p_l = _quick_hull(lst_l,lst_min,lst_p[idx],1)\n",
    "        p_r = _quick_hull(lst_r,lst_p[idx],lst_max,1)\n",
    "        res = []\n",
    "        if p_l is not None:\n",
    "            for i in p_l:\n",
    "                res.append(i)\n",
    "        res.append(lst_p[idx])\n",
    "        if p_r is not None:\n",
    "            for i in p_r:\n",
    "                res.append(i)   \n",
    "        return res\n",
    "    else:\n",
    "        lst_l = [p for p in lst_p if get_side(lst_min,lst_p[idx],p) == -1]\n",
    "        lst_r = [p for p in lst_p if get_side(lst_p[idx],lst_max,p) == -1]\n",
    "        p_l = _quick_hull(lst_l,lst_min,lst_p[idx],-1)\n",
    "        p_r = _quick_hull(lst_r,lst_p[idx],lst_max,-1)\n",
    "        res = []\n",
    "        if p_l is not None:\n",
    "            for i in p_l:\n",
    "                res.append(i)\n",
    "        res.append(lst_p[idx])\n",
    "        if p_r is not None:\n",
    "            for i in p_r:\n",
    "                res.append(i)   \n",
    "        return res\n",
    "    "
   ]
  },
  {
   "cell_type": "code",
   "execution_count": 252,
   "metadata": {},
   "outputs": [
    {
     "name": "stdout",
     "output_type": "stream",
     "text": [
      "Solution: ( 0 , 1 ) ( 1 , 3 ) ( 3 , 4 ) ( 1 , 0 ) ( 2 , 0 ) ( 3 , 1 ) ( 4 , 4 ) "
     ]
    }
   ],
   "source": [
    "P = [Point(1,3),Point(2,0),Point(3,4),Point(1,1),Point(2,2),Point(4,4),Point(0,1),Point(1,2),\n",
    "    Point(3,1),Point(3,3),Point(2,1),Point(3,2),Point(1,0)]\n",
    "res = quick_hull(P)\n",
    "print('Solution:',end=' ')\n",
    "for p in res:\n",
    "    print('(',p.x,',',p.y,')',end=' ')"
   ]
  },
  {
   "cell_type": "code",
   "execution_count": 263,
   "metadata": {},
   "outputs": [
    {
     "data": {
      "image/png": "[encoded data removed]",
      "text/plain": [
       "<Figure size 432x288 with 1 Axes>"
      ]
     },
     "metadata": {},
     "output_type": "display_data"
    }
   ],
   "source": [
    "import matplotlib.pyplot as plt\n",
    "plt.plot([0,1],[1,0],linewidth = 2,color='navy')\n",
    "plt.plot([0,1],[1,3],linewidth = 2,color='navy')\n",
    "plt.plot([1,3],[3,4],linewidth = 2,color='navy')\n",
    "plt.plot([1,2],[0,0],linewidth = 2,color='navy')\n",
    "plt.plot([2,3],[0,1],linewidth = 2,color='navy')\n",
    "plt.plot([3,4],[4,4],linewidth = 2,color='navy')\n",
    "plt.plot([3,4],[1,4],linewidth = 2,color='navy')\n",
    "plt.scatter(x=[1,2,3,1,2,4,0,1,3,3,2,3,1],y=[3,0,4,1,2,4,1,2,1,3,1,2,0],s=10,color='red')\n",
    "plt.xlabel('$x$',fontsize = 14)\n",
    "plt.ylabel('$y$',rotation = True,fontsize = 14)\n",
    "plt.grid()"
   ]
  },
  {
   "cell_type": "markdown",
   "metadata": {},
   "source": [
    "## Dynamic Programming"
   ]
  },
  {
   "cell_type": "markdown",
   "metadata": {},
   "source": [
    "### 0-1 Knapsack Problem"
   ]
  },
  {
   "cell_type": "markdown",
   "metadata": {},
   "source": [
    "**Problem**: Given weights and values of $n$ items, put these items in a knapsack of capacity $W$ to get the maximum total value in the knapsack.\n",
    "\n",
    "You cannot break an item, either pick the complete item or don’t pick it (0-1 property)."
   ]
  },
  {
   "cell_type": "code",
   "execution_count": 8,
   "metadata": {},
   "outputs": [],
   "source": [
    "def knapsack_0_1(capacity, wt, val):\n",
    "    n = len(val)\n",
    "    K = [[0 for x in range(capacity + 1)] for x in range(n + 1)] \n",
    "  \n",
    "    for i in range(n + 1): \n",
    "        for w in range(capacity + 1): \n",
    "            if i == 0 or w == 0: \n",
    "                K[i][w] = 0\n",
    "            elif wt[i-1] <= w: \n",
    "                K[i][w] = max(val[i-1]+K[i-1][w-wt[i-1]],K[i-1][w]) \n",
    "            else: \n",
    "                K[i][w] = K[i-1][w] \n",
    "  \n",
    "    return K[n][capacity] \n",
    "  "
   ]
  },
  {
   "cell_type": "code",
   "execution_count": 10,
   "metadata": {},
   "outputs": [
    {
     "name": "stdout",
     "output_type": "stream",
     "text": [
      "Maximum value to obtain: 220\n"
     ]
    }
   ],
   "source": [
    "value = [60, 100, 120] \n",
    "weight = [10, 20, 30] \n",
    "capacity = 50\n",
    "print('Maximum value to obtain:',knapsack_0_1(capacity, weight, value))"
   ]
  },
  {
   "cell_type": "markdown",
   "metadata": {},
   "source": [
    "### Longest Common Substring"
   ]
  },
  {
   "cell_type": "markdown",
   "metadata": {},
   "source": [
    "**Problem**:  Given two sequences, find the length of longest substring (consecutive) present in both of them. \n"
   ]
  },
  {
   "cell_type": "code",
   "execution_count": 66,
   "metadata": {},
   "outputs": [],
   "source": [
    "def LCS(S1, S2):\n",
    "    n = len(S1)\n",
    "    m = len(S2)\n",
    "    K = [[0 for x in range(m + 1)] for x in range(n + 1)] \n",
    "    \n",
    "    res = 0\n",
    "    for i in range(n+1):\n",
    "        for j in range(m+1):\n",
    "            if i == 0 or j == 0:\n",
    "                K[i][j] = 0\n",
    "            elif S1[i-1] == S2[j-1]:\n",
    "                K[i][j] = K[i-1][j-1] + 1\n",
    "            \n",
    "            if res < K[i][j]:\n",
    "                res = K[i][j]\n",
    "                \n",
    "    return res"
   ]
  },
  {
   "cell_type": "code",
   "execution_count": 67,
   "metadata": {},
   "outputs": [
    {
     "name": "stdout",
     "output_type": "stream",
     "text": [
      "Length of longest common substring: 3\n"
     ]
    }
   ],
   "source": [
    "S1 = \"AGGTAB\"\n",
    "S2 = \"BGGTCACAB\"\n",
    "print(\"Length of longest common substring:\",LCS(S1, S2))"
   ]
  },
  {
   "cell_type": "markdown",
   "metadata": {},
   "source": [
    "### Longest Common Subsequence"
   ]
  },
  {
   "cell_type": "markdown",
   "metadata": {},
   "source": [
    "**Problem**:  Given two sequences, find the length of longest subsequence present in both of them. \n",
    "\n",
    "A subsequence is a sequence that appears in the same relative order, but not necessarily contiguous. \n",
    "\n",
    "For example, “abc”, “abg”, “bdf”, “aeg”, ‘”acefg”, .. etc are subsequences of “abcdefg”."
   ]
  },
  {
   "cell_type": "code",
   "execution_count": 68,
   "metadata": {},
   "outputs": [],
   "source": [
    "def LCS(S1, S2):\n",
    "    n = len(S1)\n",
    "    m = len(S2)\n",
    "    K = [[0 for x in range(m + 1)] for x in range(n + 1)] \n",
    "    \n",
    "    for i in range(n+1):\n",
    "        for j in range(m+1):\n",
    "            if i == 0 or j == 0:\n",
    "                K[i][j] = 0\n",
    "            elif S1[i-1] == S2[j-1]:\n",
    "                K[i][j] = K[i-1][j-1] + 1\n",
    "            else:\n",
    "                K[i][j] = max(K[i][j-1],K[i-1][j])\n",
    "    \n",
    "    return K[n][m]"
   ]
  },
  {
   "cell_type": "code",
   "execution_count": 69,
   "metadata": {},
   "outputs": [
    {
     "name": "stdout",
     "output_type": "stream",
     "text": [
      "Length of longest common subsequence: 4\n"
     ]
    }
   ],
   "source": [
    "S1 = \"AGGTAB\"\n",
    "S2 = \"GXTXAYB\"\n",
    "print(\"Length of longest common subsequence:\",LCS(S1, S2))"
   ]
  },
  {
   "cell_type": "markdown",
   "metadata": {},
   "source": [
    "### Coin-Row Problem"
   ]
  },
  {
   "cell_type": "markdown",
   "metadata": {},
   "source": [
    "**Problem**: There is a row of $n$ coins whose values are some positive integers $c1$, $c2$, ..., $cn$, not necessarily distinct. \n",
    "\n",
    "The goal is to pick up the maximum amount of money subject to the constraint that no two coins adjacent in the initial row can be picked up."
   ]
  },
  {
   "cell_type": "code",
   "execution_count": 4,
   "metadata": {},
   "outputs": [],
   "source": [
    "def cow_row(coins):\n",
    "    N = len(coins)\n",
    "    res = [0] * (N + 1)\n",
    "    res[1]  =coins[0]\n",
    "    \n",
    "    for i in range(2,len(res)):\n",
    "        res[i] = max(res[i-2]+coins[i-1],res[i-1])\n",
    "    \n",
    "    return res[-1]"
   ]
  },
  {
   "cell_type": "code",
   "execution_count": 6,
   "metadata": {},
   "outputs": [
    {
     "name": "stdout",
     "output_type": "stream",
     "text": [
      "Maximum amount of money: 17\n"
     ]
    }
   ],
   "source": [
    "coins = [5,1,2,10,6,2]\n",
    "print('Maximum amount of money:',cow_row(coins))"
   ]
  },
  {
   "cell_type": "markdown",
   "metadata": {},
   "source": [
    "### Coin-Collecting Problem"
   ]
  },
  {
   "cell_type": "markdown",
   "metadata": {},
   "source": [
    "**Problem**: Several coins are placed in cells of an $N × M$ board, no more than one coin per cell. \n",
    "\n",
    "A robot, located in the upper left cell of the board, needs to collect as many of the coins as possible and bring them to the bottom right cell. \n",
    "\n",
    "On each step, the robot can move either one cell to the right or one cell down from its current location. When the robot visits a cell with a coin, it always picks up that coin. \n",
    "\n",
    "Find the maximum number of coins the robot can collect."
   ]
  },
  {
   "cell_type": "code",
   "execution_count": 18,
   "metadata": {},
   "outputs": [],
   "source": [
    "def robot_coin_collecting(B):\n",
    "    N  = len(B)\n",
    "    M = len(B[0])\n",
    "    T = [[0 for j in range(M)] for i in range(N)]\n",
    "    if B[0][0] == 1:\n",
    "        T[0][0] = 1\n",
    "    for i in range(1,M):\n",
    "        T[0][i] = T[0][i-1] + B[0][i]  \n",
    "    for i in range(1,N):\n",
    "        T[i][0] = T[i-1][0] + B[i][0]\n",
    "        \n",
    "    for i in range(1,N):\n",
    "        for j in range(1,M):\n",
    "            T[i][j] = max(T[i-1][j]+B[i][j],T[i][j-1]+B[i][j])\n",
    "    \n",
    "    return T[N-1][M-1]"
   ]
  },
  {
   "cell_type": "code",
   "execution_count": 19,
   "metadata": {},
   "outputs": [
    {
     "name": "stdout",
     "output_type": "stream",
     "text": [
      "Maximum number of coins to collect: 5\n"
     ]
    }
   ],
   "source": [
    "board = [[0,0,0,0,1,0],\n",
    "         [0,1,0,1,0,0],\n",
    "         [0,0,0,1,0,1],\n",
    "         [0,0,1,0,0,1],\n",
    "         [1,0,0,0,1,0]]\n",
    "print('Maximum number of coins to collect:',robot_coin_collecting(board))"
   ]
  },
  {
   "cell_type": "code",
   "execution_count": null,
   "metadata": {},
   "outputs": [],
   "source": []
  }
 ],
 "metadata": {
  "kernelspec": {
   "display_name": "Python 3",
   "language": "python",
   "name": "python3"
  },
  "language_info": {
   "codemirror_mode": {
    "name": "ipython",
    "version": 3
   },
   "file_extension": ".py",
   "mimetype": "text/x-python",
   "name": "python",
   "nbconvert_exporter": "python",
   "pygments_lexer": "ipython3",
   "version": "3.6.4"
  }
 },
 "nbformat": 4,
 "nbformat_minor": 2
}
